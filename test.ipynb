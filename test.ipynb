{
 "cells": [
  {
   "cell_type": "code",
   "metadata": {
    "ExecuteTime": {
     "end_time": "2025-03-29T11:44:18.532299Z",
     "start_time": "2025-03-29T11:44:18.457287Z"
    }
   },
   "source": [
    "import pandas as pd\n",
    "from pydantic import BaseModel\n",
    "import random"
   ],
   "outputs": [],
   "execution_count": 2
  },
  {
   "cell_type": "code",
   "metadata": {
    "ExecuteTime": {
     "end_time": "2025-03-29T11:44:28.788253Z",
     "start_time": "2025-03-29T11:44:18.533295Z"
    }
   },
   "source": [
    "# got from https://www.tensorflow.org/datasets/catalog/kddcup99\n",
    "feature_names = [\"duration\", \"protocol_type\", \"service\", \"flag\", 'src_bytes', 'dst_bytes', 'land', 'wrong_fragment', 'urgent', 'hot', 'num_failed_logins', 'logged_in', 'num_compromised', 'root_shell', 'su_attempted', 'num_root', 'num_file_creations', 'num_shells', 'num_access_files', 'num_outbound_cmds', 'is_hot_login', 'is_guest_login', 'count', 'srv_count', 'serror_rate', 'srv_serror_rate', 'rerror_rate', 'srv_rerror_rate', 'same_srv_rate', 'diff_srv_rate', 'srv_diff_host_rate', 'dst_host_count', 'dst_host_srv_count', 'dst_host_same_srv_rate', 'dst_host_diff_srv_rate', 'dst_host_same_src_port_rate', 'dst_host_srv_diff_host_rate', 'dst_host_serror_rate', 'dst_host_srv_serror_rate', 'dst_host_rerror_rate', 'dst_host_srv_rerror_rate', 'label']\n",
    "\n",
    "train_df = pd.read_csv(\"kddcup.data.gz\", names=feature_names, compression='gzip') # http://kdd.ics.uci.edu/databases/kddcup99/kddcup.data.gz\n",
    "test_df = pd.read_csv(\"corrected.gz\", names=feature_names, compression='gzip') # http://kdd.ics.uci.edu/databases/kddcup99/corrected.gz"
   ],
   "outputs": [],
   "execution_count": 3
  },
  {
   "cell_type": "code",
   "metadata": {
    "ExecuteTime": {
     "end_time": "2025-03-29T11:44:29.760457Z",
     "start_time": "2025-03-29T11:44:28.789252Z"
    }
   },
   "source": [
    "# fix label names\n",
    "train_df[\"label\"] = train_df[\"label\"].apply(lambda x: x[:-1])\n",
    "test_df[\"label\"] = test_df[\"label\"].apply(lambda x: x[:-1])"
   ],
   "outputs": [],
   "execution_count": 4
  },
  {
   "cell_type": "code",
   "metadata": {
    "ExecuteTime": {
     "end_time": "2025-03-29T11:44:29.789538Z",
     "start_time": "2025-03-29T11:44:29.762416Z"
    }
   },
   "source": [
    "train_df.head()"
   ],
   "outputs": [
    {
     "data": {
      "text/plain": [
       "   duration protocol_type service flag  src_bytes  dst_bytes  land  \\\n",
       "0         0           tcp    http   SF        215      45076     0   \n",
       "1         0           tcp    http   SF        162       4528     0   \n",
       "2         0           tcp    http   SF        236       1228     0   \n",
       "3         0           tcp    http   SF        233       2032     0   \n",
       "4         0           tcp    http   SF        239        486     0   \n",
       "\n",
       "   wrong_fragment  urgent  hot  ...  dst_host_srv_count  \\\n",
       "0               0       0    0  ...                   0   \n",
       "1               0       0    0  ...                   1   \n",
       "2               0       0    0  ...                   2   \n",
       "3               0       0    0  ...                   3   \n",
       "4               0       0    0  ...                   4   \n",
       "\n",
       "   dst_host_same_srv_rate  dst_host_diff_srv_rate  \\\n",
       "0                     0.0                     0.0   \n",
       "1                     1.0                     0.0   \n",
       "2                     1.0                     0.0   \n",
       "3                     1.0                     0.0   \n",
       "4                     1.0                     0.0   \n",
       "\n",
       "   dst_host_same_src_port_rate  dst_host_srv_diff_host_rate  \\\n",
       "0                         0.00                          0.0   \n",
       "1                         1.00                          0.0   \n",
       "2                         0.50                          0.0   \n",
       "3                         0.33                          0.0   \n",
       "4                         0.25                          0.0   \n",
       "\n",
       "   dst_host_serror_rate  dst_host_srv_serror_rate  dst_host_rerror_rate  \\\n",
       "0                   0.0                       0.0                   0.0   \n",
       "1                   0.0                       0.0                   0.0   \n",
       "2                   0.0                       0.0                   0.0   \n",
       "3                   0.0                       0.0                   0.0   \n",
       "4                   0.0                       0.0                   0.0   \n",
       "\n",
       "   dst_host_srv_rerror_rate   label  \n",
       "0                       0.0  normal  \n",
       "1                       0.0  normal  \n",
       "2                       0.0  normal  \n",
       "3                       0.0  normal  \n",
       "4                       0.0  normal  \n",
       "\n",
       "[5 rows x 42 columns]"
      ],
      "text/html": [
       "<div>\n",
       "<style scoped>\n",
       "    .dataframe tbody tr th:only-of-type {\n",
       "        vertical-align: middle;\n",
       "    }\n",
       "\n",
       "    .dataframe tbody tr th {\n",
       "        vertical-align: top;\n",
       "    }\n",
       "\n",
       "    .dataframe thead th {\n",
       "        text-align: right;\n",
       "    }\n",
       "</style>\n",
       "<table border=\"1\" class=\"dataframe\">\n",
       "  <thead>\n",
       "    <tr style=\"text-align: right;\">\n",
       "      <th></th>\n",
       "      <th>duration</th>\n",
       "      <th>protocol_type</th>\n",
       "      <th>service</th>\n",
       "      <th>flag</th>\n",
       "      <th>src_bytes</th>\n",
       "      <th>dst_bytes</th>\n",
       "      <th>land</th>\n",
       "      <th>wrong_fragment</th>\n",
       "      <th>urgent</th>\n",
       "      <th>hot</th>\n",
       "      <th>...</th>\n",
       "      <th>dst_host_srv_count</th>\n",
       "      <th>dst_host_same_srv_rate</th>\n",
       "      <th>dst_host_diff_srv_rate</th>\n",
       "      <th>dst_host_same_src_port_rate</th>\n",
       "      <th>dst_host_srv_diff_host_rate</th>\n",
       "      <th>dst_host_serror_rate</th>\n",
       "      <th>dst_host_srv_serror_rate</th>\n",
       "      <th>dst_host_rerror_rate</th>\n",
       "      <th>dst_host_srv_rerror_rate</th>\n",
       "      <th>label</th>\n",
       "    </tr>\n",
       "  </thead>\n",
       "  <tbody>\n",
       "    <tr>\n",
       "      <th>0</th>\n",
       "      <td>0</td>\n",
       "      <td>tcp</td>\n",
       "      <td>http</td>\n",
       "      <td>SF</td>\n",
       "      <td>215</td>\n",
       "      <td>45076</td>\n",
       "      <td>0</td>\n",
       "      <td>0</td>\n",
       "      <td>0</td>\n",
       "      <td>0</td>\n",
       "      <td>...</td>\n",
       "      <td>0</td>\n",
       "      <td>0.0</td>\n",
       "      <td>0.0</td>\n",
       "      <td>0.00</td>\n",
       "      <td>0.0</td>\n",
       "      <td>0.0</td>\n",
       "      <td>0.0</td>\n",
       "      <td>0.0</td>\n",
       "      <td>0.0</td>\n",
       "      <td>normal</td>\n",
       "    </tr>\n",
       "    <tr>\n",
       "      <th>1</th>\n",
       "      <td>0</td>\n",
       "      <td>tcp</td>\n",
       "      <td>http</td>\n",
       "      <td>SF</td>\n",
       "      <td>162</td>\n",
       "      <td>4528</td>\n",
       "      <td>0</td>\n",
       "      <td>0</td>\n",
       "      <td>0</td>\n",
       "      <td>0</td>\n",
       "      <td>...</td>\n",
       "      <td>1</td>\n",
       "      <td>1.0</td>\n",
       "      <td>0.0</td>\n",
       "      <td>1.00</td>\n",
       "      <td>0.0</td>\n",
       "      <td>0.0</td>\n",
       "      <td>0.0</td>\n",
       "      <td>0.0</td>\n",
       "      <td>0.0</td>\n",
       "      <td>normal</td>\n",
       "    </tr>\n",
       "    <tr>\n",
       "      <th>2</th>\n",
       "      <td>0</td>\n",
       "      <td>tcp</td>\n",
       "      <td>http</td>\n",
       "      <td>SF</td>\n",
       "      <td>236</td>\n",
       "      <td>1228</td>\n",
       "      <td>0</td>\n",
       "      <td>0</td>\n",
       "      <td>0</td>\n",
       "      <td>0</td>\n",
       "      <td>...</td>\n",
       "      <td>2</td>\n",
       "      <td>1.0</td>\n",
       "      <td>0.0</td>\n",
       "      <td>0.50</td>\n",
       "      <td>0.0</td>\n",
       "      <td>0.0</td>\n",
       "      <td>0.0</td>\n",
       "      <td>0.0</td>\n",
       "      <td>0.0</td>\n",
       "      <td>normal</td>\n",
       "    </tr>\n",
       "    <tr>\n",
       "      <th>3</th>\n",
       "      <td>0</td>\n",
       "      <td>tcp</td>\n",
       "      <td>http</td>\n",
       "      <td>SF</td>\n",
       "      <td>233</td>\n",
       "      <td>2032</td>\n",
       "      <td>0</td>\n",
       "      <td>0</td>\n",
       "      <td>0</td>\n",
       "      <td>0</td>\n",
       "      <td>...</td>\n",
       "      <td>3</td>\n",
       "      <td>1.0</td>\n",
       "      <td>0.0</td>\n",
       "      <td>0.33</td>\n",
       "      <td>0.0</td>\n",
       "      <td>0.0</td>\n",
       "      <td>0.0</td>\n",
       "      <td>0.0</td>\n",
       "      <td>0.0</td>\n",
       "      <td>normal</td>\n",
       "    </tr>\n",
       "    <tr>\n",
       "      <th>4</th>\n",
       "      <td>0</td>\n",
       "      <td>tcp</td>\n",
       "      <td>http</td>\n",
       "      <td>SF</td>\n",
       "      <td>239</td>\n",
       "      <td>486</td>\n",
       "      <td>0</td>\n",
       "      <td>0</td>\n",
       "      <td>0</td>\n",
       "      <td>0</td>\n",
       "      <td>...</td>\n",
       "      <td>4</td>\n",
       "      <td>1.0</td>\n",
       "      <td>0.0</td>\n",
       "      <td>0.25</td>\n",
       "      <td>0.0</td>\n",
       "      <td>0.0</td>\n",
       "      <td>0.0</td>\n",
       "      <td>0.0</td>\n",
       "      <td>0.0</td>\n",
       "      <td>normal</td>\n",
       "    </tr>\n",
       "  </tbody>\n",
       "</table>\n",
       "<p>5 rows × 42 columns</p>\n",
       "</div>"
      ]
     },
     "execution_count": 5,
     "metadata": {},
     "output_type": "execute_result"
    }
   ],
   "execution_count": 5
  },
  {
   "cell_type": "code",
   "metadata": {
    "ExecuteTime": {
     "end_time": "2025-03-29T11:44:30.225162Z",
     "start_time": "2025-03-29T11:44:29.790508Z"
    }
   },
   "source": [
    "discrete = [\"protocol_type\", \"service\", \"flag\"]\n",
    "boolean = [\"logged_in\", \"root_shell\", \"su_attempted\", \"is_hot_login\", \"is_guest_login\"]\n",
    "continuous = [\"duration\", \"src_bytes\", \"dst_bytes\", \"wrong_fragment\", \"urgent\", \"hot\", \"num_compromised\", \n",
    "              \"num_root\", \"num_file_creations\", \"num_shells\", \"num_access_files\", \"num_outbound_cmds\",\n",
    "              \"count\", \"serror_rate\", \"rerror_rate\", \"same_srv_rate\", \"diff_srv_rate\", \"srv_count\", \"srv_serror_rate\", \"srv_rerror_rate\", \"srv_diff_host_rate\"]\n",
    "labels = list(set(train_df[\"label\"]))"
   ],
   "outputs": [],
   "execution_count": 6
  },
  {
   "cell_type": "code",
   "metadata": {
    "ExecuteTime": {
     "end_time": "2025-03-29T11:44:31.389756Z",
     "start_time": "2025-03-29T11:44:30.226157Z"
    }
   },
   "source": [
    "discrete_values = {key: list(set(train_df[key])) for key in discrete}\n",
    "continuous_min_max = {key: (train_df[key].min(), train_df[key].max()) for key in continuous}"
   ],
   "outputs": [],
   "execution_count": 7
  },
  {
   "cell_type": "code",
   "metadata": {
    "ExecuteTime": {
     "end_time": "2025-03-29T11:44:31.493141Z",
     "start_time": "2025-03-29T11:44:31.390722Z"
    }
   },
   "source": [
    "class Chromosome(BaseModel):\n",
    "    discrete: dict\n",
    "    boolean: dict\n",
    "    continuous: dict\n",
    "    label: str\n",
    "\n",
    "    @classmethod\n",
    "    def generate_random(cls, label: str) -> \"Chromosome\":\n",
    "        discrete_dict = {}\n",
    "        for feature, values in discrete_values.items():\n",
    "            discrete_dict[feature] = random.choice(values)\n",
    "\n",
    "        boolean_dict = {}\n",
    "        for feature in boolean:\n",
    "            boolean_dict[feature] = random.choice([0, 1])\n",
    "\n",
    "        continuous_dict = {}\n",
    "        for feature, values in continuous_min_max.items():\n",
    "            min_val = values[0]\n",
    "            max_val = values[1]\n",
    "            val_0 = random.uniform(min_val, max_val)\n",
    "            val_1 = random.uniform(min_val, max_val)\n",
    "            if val_0 < val_1:\n",
    "                new_values = (val_0, val_1)\n",
    "            else:\n",
    "                new_values = (val_1, val_0)\n",
    "            continuous_dict[feature] = new_values\n",
    "\n",
    "        return cls(discrete=discrete_dict, boolean=boolean_dict, continuous=continuous_dict, label=label)\n",
    "    \n",
    "    def get_expression(self):\n",
    "        expr_discrete = \" & \".join([f\"{key} == '{value}'\" for key, value in self.discrete.items()])\n",
    "        expr_boolean = \" & \".join([f\"{key} == {value}\" for key, value in self.boolean.items()])\n",
    "        expr_continuous = \" & \".join([f\"{key} >= {value[0]} & {key} <= {value[1]}\" for key, value in self.continuous.items()])\n",
    "        expression = \" & \".join(\n",
    "            [\n",
    "                expr_discrete, \n",
    "                expr_boolean, \n",
    "                expr_continuous\n",
    "            ]\n",
    "        )\n",
    "        return expression     \n"
   ],
   "outputs": [],
   "execution_count": 8
  },
  {
   "cell_type": "code",
   "metadata": {
    "ExecuteTime": {
     "end_time": "2025-03-29T11:44:31.498675Z",
     "start_time": "2025-03-29T11:44:31.494130Z"
    }
   },
   "source": [
    "def check_chromosome(chromosome: Chromosome, df: pd.DataFrame):\n",
    "    same_label_df: pd.DataFrame = df[df[\"label\"] == chromosome.label]\n",
    "    other_label_df: pd.DataFrame = df[df[\"label\"] != chromosome.label]\n",
    "\n",
    "    expression = chromosome.get_expression()\n",
    "    \n",
    "    true_positives = same_label_df.query(expression).shape[0]\n",
    "    false_positives = same_label_df.shape[0] - true_positives\n",
    "\n",
    "    true_negatives = other_label_df.query(expression).shape[0]\n",
    "    false_negatives = other_label_df.shape[0] - true_negatives\n",
    "\n",
    "    return {\n",
    "        \"TRUE_POSITIVE\": true_positives,\n",
    "        \"FALSE_POSITIVE\": false_positives,\n",
    "        \"FALSE_NEGATIVE\": false_negatives,\n",
    "        \"TRUE_NEGATIVE\": true_negatives\n",
    "    }"
   ],
   "outputs": [],
   "execution_count": 9
  },
  {
   "cell_type": "code",
   "metadata": {
    "ExecuteTime": {
     "end_time": "2025-03-29T11:44:31.503795Z",
     "start_time": "2025-03-29T11:44:31.499646Z"
    }
   },
   "source": [
    "c = Chromosome.generate_random(label=\"normal\")\n",
    "c.get_expression()"
   ],
   "outputs": [
    {
     "data": {
      "text/plain": [
       "\"protocol_type == 'icmp' & service == 'pop_3' & flag == 'S0' & logged_in == 0 & root_shell == 0 & su_attempted == 0 & is_hot_login == 0 & is_guest_login == 0 & duration >= 24918.487469770924 & duration <= 32625.815268880608 & src_bytes >= 644533628.4080403 & src_bytes <= 933169127.381886 & dst_bytes >= 440262973.7900939 & dst_bytes <= 692304440.3522764 & wrong_fragment >= 0.7701327180849414 & wrong_fragment <= 1.8327023644854508 & urgent >= 12.095239913790403 & urgent <= 13.309022719850951 & hot >= 5.261035035551147 & hot <= 17.246957229951654 & num_compromised >= 641.0655631665069 & num_compromised <= 5319.323352758933 & num_root >= 204.69961755276285 & num_root <= 1988.3505274788586 & num_file_creations >= 0.3702282971520816 & num_file_creations <= 28.429284139079822 & num_shells >= 0.30584327068305295 & num_shells <= 1.8091613575648842 & num_access_files >= 2.6108463899000647 & num_access_files <= 8.747037405399258 & num_outbound_cmds >= 0.0 & num_outbound_cmds <= 0.0 & count >= 190.56586170896793 & count <= 495.5754506540794 & serror_rate >= 0.18239510152102245 & serror_rate <= 0.19936736859836823 & rerror_rate >= 0.04883801066280036 & rerror_rate <= 0.9374739156383124 & same_srv_rate >= 0.2790944980546509 & same_srv_rate <= 0.6474401076003482 & diff_srv_rate >= 0.337059698561342 & diff_srv_rate <= 0.50038839051025 & srv_count >= 53.77162987545731 & srv_count <= 244.35517426682006 & srv_serror_rate >= 0.6805643952959499 & srv_serror_rate <= 0.7843851352100225 & srv_rerror_rate >= 0.2980188377488533 & srv_rerror_rate <= 0.5533222553070012 & srv_diff_host_rate >= 0.2961341646752851 & srv_diff_host_rate <= 0.5094770156611816\""
      ]
     },
     "execution_count": 10,
     "metadata": {},
     "output_type": "execute_result"
    }
   ],
   "execution_count": 10
  },
  {
   "cell_type": "code",
   "metadata": {
    "ExecuteTime": {
     "end_time": "2025-03-29T11:44:31.510116Z",
     "start_time": "2025-03-29T11:44:31.505792Z"
    }
   },
   "source": [
    "d = Chromosome(\n",
    "    discrete={\n",
    "        \"protocol_type\": \"tcp\",\n",
    "        \"service\": \"http\",\n",
    "        \"flag\": \"SF\"   \n",
    "    },\n",
    "    boolean={\n",
    "        \"logged_in\": 1,\n",
    "        \"root_shell\": 0,\n",
    "        \"su_attempted\": 0\n",
    "    },\n",
    "    continuous={\n",
    "        \"duration\": (0, 300) \n",
    "    },\n",
    "    label=\"normal\"\n",
    ")\n",
    "d.get_expression()"
   ],
   "outputs": [
    {
     "data": {
      "text/plain": [
       "\"protocol_type == 'tcp' & service == 'http' & flag == 'SF' & logged_in == 1 & root_shell == 0 & su_attempted == 0 & duration >= 0 & duration <= 300\""
      ]
     },
     "execution_count": 11,
     "metadata": {},
     "output_type": "execute_result"
    }
   ],
   "execution_count": 11
  },
  {
   "cell_type": "code",
   "metadata": {
    "ExecuteTime": {
     "end_time": "2025-03-29T11:44:33.045002Z",
     "start_time": "2025-03-29T11:44:31.511093Z"
    }
   },
   "source": [
    "check_chromosome(d, train_df)"
   ],
   "outputs": [
    {
     "data": {
      "text/plain": [
       "{'TRUE_POSITIVE': 564103,\n",
       " 'FALSE_POSITIVE': 408678,\n",
       " 'FALSE_NEGATIVE': 3923543,\n",
       " 'TRUE_NEGATIVE': 2107}"
      ]
     },
     "execution_count": 12,
     "metadata": {},
     "output_type": "execute_result"
    }
   ],
   "execution_count": 12
  }
 ],
 "metadata": {
  "kernelspec": {
   "display_name": ".venv",
   "language": "python",
   "name": "python3"
  },
  "language_info": {
   "codemirror_mode": {
    "name": "ipython",
    "version": 3
   },
   "file_extension": ".py",
   "mimetype": "text/x-python",
   "name": "python",
   "nbconvert_exporter": "python",
   "pygments_lexer": "ipython3",
   "version": "3.13.2"
  }
 },
 "nbformat": 4,
 "nbformat_minor": 2
}
